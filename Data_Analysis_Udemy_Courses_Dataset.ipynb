{
 "cells": [
  {
   "cell_type": "markdown",
   "metadata": {},
   "source": [
    "### Dataset: https://www.kaggle.com/andrewmvd/udemy-courses"
   ]
  },
  {
   "cell_type": "code",
   "execution_count": 2,
   "metadata": {},
   "outputs": [],
   "source": [
    "import pandas as pd\n",
    "import seaborn as sns"
   ]
  },
  {
   "cell_type": "code",
   "execution_count": 25,
   "metadata": {},
   "outputs": [],
   "source": [
    "data=pd.read_csv('Udemy_Courses.csv',parse_dates=['published_timestamp'])"
   ]
  },
  {
   "cell_type": "code",
   "execution_count": 26,
   "metadata": {},
   "outputs": [
    {
     "data": {
      "text/plain": [
       "course_id                            int64\n",
       "course_title                        object\n",
       "is_paid                               bool\n",
       "price                               object\n",
       "num_subscribers                      int64\n",
       "num_reviews                          int64\n",
       "num_lectures                         int64\n",
       "level                               object\n",
       "content_duration                    object\n",
       "published_timestamp    datetime64[ns, UTC]\n",
       "subject                             object\n",
       "dtype: object"
      ]
     },
     "execution_count": 26,
     "metadata": {},
     "output_type": "execute_result"
    }
   ],
   "source": [
    "data.dtypes"
   ]
  },
  {
   "cell_type": "code",
   "execution_count": null,
   "metadata": {},
   "outputs": [],
   "source": []
  },
  {
   "cell_type": "markdown",
   "metadata": {},
   "source": [
    "### 1. Display Top 10 Rows of The Dataset"
   ]
  },
  {
   "cell_type": "code",
   "execution_count": 23,
   "metadata": {},
   "outputs": [
    {
     "data": {
      "text/html": [
       "<div>\n",
       "<style scoped>\n",
       "    .dataframe tbody tr th:only-of-type {\n",
       "        vertical-align: middle;\n",
       "    }\n",
       "\n",
       "    .dataframe tbody tr th {\n",
       "        vertical-align: top;\n",
       "    }\n",
       "\n",
       "    .dataframe thead th {\n",
       "        text-align: right;\n",
       "    }\n",
       "</style>\n",
       "<table border=\"1\" class=\"dataframe\">\n",
       "  <thead>\n",
       "    <tr style=\"text-align: right;\">\n",
       "      <th></th>\n",
       "      <th>course_id</th>\n",
       "      <th>course_title</th>\n",
       "      <th>url</th>\n",
       "      <th>is_paid</th>\n",
       "      <th>price</th>\n",
       "      <th>num_subscribers</th>\n",
       "      <th>num_reviews</th>\n",
       "      <th>num_lectures</th>\n",
       "      <th>level</th>\n",
       "      <th>content_duration</th>\n",
       "      <th>published_timestamp</th>\n",
       "      <th>subject</th>\n",
       "    </tr>\n",
       "  </thead>\n",
       "  <tbody>\n",
       "    <tr>\n",
       "      <th>0</th>\n",
       "      <td>1070968</td>\n",
       "      <td>Ultimate Investment Banking Course</td>\n",
       "      <td>https://www.udemy.com/ultimate-investment-bank...</td>\n",
       "      <td>True</td>\n",
       "      <td>200</td>\n",
       "      <td>2147</td>\n",
       "      <td>23</td>\n",
       "      <td>51</td>\n",
       "      <td>All Levels</td>\n",
       "      <td>1.5</td>\n",
       "      <td>2017-01-18 20:58:58+00:00</td>\n",
       "      <td>Business Finance</td>\n",
       "    </tr>\n",
       "    <tr>\n",
       "      <th>1</th>\n",
       "      <td>1113822</td>\n",
       "      <td>Complete GST Course &amp; Certification - Grow You...</td>\n",
       "      <td>https://www.udemy.com/goods-and-services-tax/</td>\n",
       "      <td>True</td>\n",
       "      <td>75</td>\n",
       "      <td>2792</td>\n",
       "      <td>923</td>\n",
       "      <td>274</td>\n",
       "      <td>All Levels</td>\n",
       "      <td>39.0</td>\n",
       "      <td>2017-03-09 16:34:20+00:00</td>\n",
       "      <td>Business Finance</td>\n",
       "    </tr>\n",
       "    <tr>\n",
       "      <th>2</th>\n",
       "      <td>1006314</td>\n",
       "      <td>Financial Modeling for Business Analysts and C...</td>\n",
       "      <td>https://www.udemy.com/financial-modeling-for-b...</td>\n",
       "      <td>True</td>\n",
       "      <td>45</td>\n",
       "      <td>2174</td>\n",
       "      <td>74</td>\n",
       "      <td>51</td>\n",
       "      <td>Intermediate Level</td>\n",
       "      <td>2.5</td>\n",
       "      <td>2016-12-19 19:26:30+00:00</td>\n",
       "      <td>Business Finance</td>\n",
       "    </tr>\n",
       "    <tr>\n",
       "      <th>3</th>\n",
       "      <td>1210588</td>\n",
       "      <td>Beginner to Pro - Financial Analysis in Excel ...</td>\n",
       "      <td>https://www.udemy.com/complete-excel-finance-c...</td>\n",
       "      <td>True</td>\n",
       "      <td>95</td>\n",
       "      <td>2451</td>\n",
       "      <td>11</td>\n",
       "      <td>36</td>\n",
       "      <td>All Levels</td>\n",
       "      <td>3.0</td>\n",
       "      <td>2017-05-30 20:07:24+00:00</td>\n",
       "      <td>Business Finance</td>\n",
       "    </tr>\n",
       "    <tr>\n",
       "      <th>4</th>\n",
       "      <td>1011058</td>\n",
       "      <td>How To Maximize Your Profits Trading Options</td>\n",
       "      <td>https://www.udemy.com/how-to-maximize-your-pro...</td>\n",
       "      <td>True</td>\n",
       "      <td>200</td>\n",
       "      <td>1276</td>\n",
       "      <td>45</td>\n",
       "      <td>26</td>\n",
       "      <td>Intermediate Level</td>\n",
       "      <td>2.0</td>\n",
       "      <td>2016-12-13 14:57:18+00:00</td>\n",
       "      <td>Business Finance</td>\n",
       "    </tr>\n",
       "    <tr>\n",
       "      <th>5</th>\n",
       "      <td>192870</td>\n",
       "      <td>Trading Penny Stocks: A Guide for All Levels I...</td>\n",
       "      <td>https://www.udemy.com/trading-penny-stocks-a-g...</td>\n",
       "      <td>True</td>\n",
       "      <td>150</td>\n",
       "      <td>9221</td>\n",
       "      <td>138</td>\n",
       "      <td>25</td>\n",
       "      <td>All Levels</td>\n",
       "      <td>3.0</td>\n",
       "      <td>2014-05-02 15:13:30+00:00</td>\n",
       "      <td>Business Finance</td>\n",
       "    </tr>\n",
       "    <tr>\n",
       "      <th>6</th>\n",
       "      <td>739964</td>\n",
       "      <td>Investing And Trading For Beginners: Mastering...</td>\n",
       "      <td>https://www.udemy.com/investing-and-trading-fo...</td>\n",
       "      <td>True</td>\n",
       "      <td>65</td>\n",
       "      <td>1540</td>\n",
       "      <td>178</td>\n",
       "      <td>26</td>\n",
       "      <td>Beginner Level</td>\n",
       "      <td>1.0</td>\n",
       "      <td>2016-02-21 18:23:12+00:00</td>\n",
       "      <td>Business Finance</td>\n",
       "    </tr>\n",
       "    <tr>\n",
       "      <th>7</th>\n",
       "      <td>403100</td>\n",
       "      <td>Trading Stock Chart Patterns For Immediate, Ex...</td>\n",
       "      <td>https://www.udemy.com/trading-chart-patterns-f...</td>\n",
       "      <td>True</td>\n",
       "      <td>95</td>\n",
       "      <td>2917</td>\n",
       "      <td>148</td>\n",
       "      <td>23</td>\n",
       "      <td>All Levels</td>\n",
       "      <td>2.5</td>\n",
       "      <td>2015-01-30 22:13:03+00:00</td>\n",
       "      <td>Business Finance</td>\n",
       "    </tr>\n",
       "    <tr>\n",
       "      <th>8</th>\n",
       "      <td>476268</td>\n",
       "      <td>Options Trading 3 : Advanced Stock Profit and ...</td>\n",
       "      <td>https://www.udemy.com/day-trading-stock-option...</td>\n",
       "      <td>True</td>\n",
       "      <td>195</td>\n",
       "      <td>5172</td>\n",
       "      <td>34</td>\n",
       "      <td>38</td>\n",
       "      <td>Expert Level</td>\n",
       "      <td>2.5</td>\n",
       "      <td>2015-05-28 00:14:03+00:00</td>\n",
       "      <td>Business Finance</td>\n",
       "    </tr>\n",
       "    <tr>\n",
       "      <th>9</th>\n",
       "      <td>1167710</td>\n",
       "      <td>The Only Investment Strategy You Need For Your...</td>\n",
       "      <td>https://www.udemy.com/the-only-investment-stra...</td>\n",
       "      <td>True</td>\n",
       "      <td>200</td>\n",
       "      <td>827</td>\n",
       "      <td>14</td>\n",
       "      <td>15</td>\n",
       "      <td>All Levels</td>\n",
       "      <td>1.0</td>\n",
       "      <td>2017-04-18 18:13:32+00:00</td>\n",
       "      <td>Business Finance</td>\n",
       "    </tr>\n",
       "  </tbody>\n",
       "</table>\n",
       "</div>"
      ],
      "text/plain": [
       "   course_id                                       course_title  \\\n",
       "0    1070968                 Ultimate Investment Banking Course   \n",
       "1    1113822  Complete GST Course & Certification - Grow You...   \n",
       "2    1006314  Financial Modeling for Business Analysts and C...   \n",
       "3    1210588  Beginner to Pro - Financial Analysis in Excel ...   \n",
       "4    1011058       How To Maximize Your Profits Trading Options   \n",
       "5     192870  Trading Penny Stocks: A Guide for All Levels I...   \n",
       "6     739964  Investing And Trading For Beginners: Mastering...   \n",
       "7     403100  Trading Stock Chart Patterns For Immediate, Ex...   \n",
       "8     476268  Options Trading 3 : Advanced Stock Profit and ...   \n",
       "9    1167710  The Only Investment Strategy You Need For Your...   \n",
       "\n",
       "                                                 url  is_paid  price  \\\n",
       "0  https://www.udemy.com/ultimate-investment-bank...     True    200   \n",
       "1      https://www.udemy.com/goods-and-services-tax/     True     75   \n",
       "2  https://www.udemy.com/financial-modeling-for-b...     True     45   \n",
       "3  https://www.udemy.com/complete-excel-finance-c...     True     95   \n",
       "4  https://www.udemy.com/how-to-maximize-your-pro...     True    200   \n",
       "5  https://www.udemy.com/trading-penny-stocks-a-g...     True    150   \n",
       "6  https://www.udemy.com/investing-and-trading-fo...     True     65   \n",
       "7  https://www.udemy.com/trading-chart-patterns-f...     True     95   \n",
       "8  https://www.udemy.com/day-trading-stock-option...     True    195   \n",
       "9  https://www.udemy.com/the-only-investment-stra...     True    200   \n",
       "\n",
       "   num_subscribers  num_reviews  num_lectures               level  \\\n",
       "0             2147           23            51          All Levels   \n",
       "1             2792          923           274          All Levels   \n",
       "2             2174           74            51  Intermediate Level   \n",
       "3             2451           11            36          All Levels   \n",
       "4             1276           45            26  Intermediate Level   \n",
       "5             9221          138            25          All Levels   \n",
       "6             1540          178            26      Beginner Level   \n",
       "7             2917          148            23          All Levels   \n",
       "8             5172           34            38        Expert Level   \n",
       "9              827           14            15          All Levels   \n",
       "\n",
       "   content_duration       published_timestamp           subject  \n",
       "0               1.5 2017-01-18 20:58:58+00:00  Business Finance  \n",
       "1              39.0 2017-03-09 16:34:20+00:00  Business Finance  \n",
       "2               2.5 2016-12-19 19:26:30+00:00  Business Finance  \n",
       "3               3.0 2017-05-30 20:07:24+00:00  Business Finance  \n",
       "4               2.0 2016-12-13 14:57:18+00:00  Business Finance  \n",
       "5               3.0 2014-05-02 15:13:30+00:00  Business Finance  \n",
       "6               1.0 2016-02-21 18:23:12+00:00  Business Finance  \n",
       "7               2.5 2015-01-30 22:13:03+00:00  Business Finance  \n",
       "8               2.5 2015-05-28 00:14:03+00:00  Business Finance  \n",
       "9               1.0 2017-04-18 18:13:32+00:00  Business Finance  "
      ]
     },
     "execution_count": 23,
     "metadata": {},
     "output_type": "execute_result"
    }
   ],
   "source": [
    "data.head(10)"
   ]
  },
  {
   "cell_type": "markdown",
   "metadata": {},
   "source": [
    "### 2. Check Last 5 Rows of The Dataset"
   ]
  },
  {
   "cell_type": "code",
   "execution_count": 17,
   "metadata": {},
   "outputs": [
    {
     "data": {
      "text/html": [
       "<div>\n",
       "<style scoped>\n",
       "    .dataframe tbody tr th:only-of-type {\n",
       "        vertical-align: middle;\n",
       "    }\n",
       "\n",
       "    .dataframe tbody tr th {\n",
       "        vertical-align: top;\n",
       "    }\n",
       "\n",
       "    .dataframe thead th {\n",
       "        text-align: right;\n",
       "    }\n",
       "</style>\n",
       "<table border=\"1\" class=\"dataframe\">\n",
       "  <thead>\n",
       "    <tr style=\"text-align: right;\">\n",
       "      <th></th>\n",
       "      <th>course_id</th>\n",
       "      <th>course_title</th>\n",
       "      <th>is_paid</th>\n",
       "      <th>price</th>\n",
       "      <th>num_subscribers</th>\n",
       "      <th>num_reviews</th>\n",
       "      <th>num_lectures</th>\n",
       "      <th>level</th>\n",
       "      <th>content_duration</th>\n",
       "      <th>published_timestamp</th>\n",
       "      <th>subject</th>\n",
       "    </tr>\n",
       "  </thead>\n",
       "  <tbody>\n",
       "    <tr>\n",
       "      <th>3677</th>\n",
       "      <td>328960</td>\n",
       "      <td>Your Own Site in 45 Min: The Complete Wordpres...</td>\n",
       "      <td>True</td>\n",
       "      <td>120</td>\n",
       "      <td>1566</td>\n",
       "      <td>29</td>\n",
       "      <td>36</td>\n",
       "      <td>All Levels</td>\n",
       "      <td>4 hours</td>\n",
       "      <td>2015-04-20 22:15:17+00:00</td>\n",
       "      <td>Web Development</td>\n",
       "    </tr>\n",
       "    <tr>\n",
       "      <th>3678</th>\n",
       "      <td>552700</td>\n",
       "      <td>Your Second Course on Piano: Two Handed Playing</td>\n",
       "      <td>True</td>\n",
       "      <td>70</td>\n",
       "      <td>1018</td>\n",
       "      <td>12</td>\n",
       "      <td>22</td>\n",
       "      <td>Beginner Level</td>\n",
       "      <td>5 hours</td>\n",
       "      <td>2015-10-26 20:04:21+00:00</td>\n",
       "      <td>Musical Instruments</td>\n",
       "    </tr>\n",
       "    <tr>\n",
       "      <th>3679</th>\n",
       "      <td>631754</td>\n",
       "      <td>Zend Framework 2: Learn the PHP framework ZF2 ...</td>\n",
       "      <td>True</td>\n",
       "      <td>40</td>\n",
       "      <td>723</td>\n",
       "      <td>130</td>\n",
       "      <td>37</td>\n",
       "      <td>All Levels</td>\n",
       "      <td>6.5 hours</td>\n",
       "      <td>2015-11-11 18:55:45+00:00</td>\n",
       "      <td>Web Development</td>\n",
       "    </tr>\n",
       "    <tr>\n",
       "      <th>3680</th>\n",
       "      <td>1225194</td>\n",
       "      <td>Zoho Books Gestion Financière d'Entreprise pas...</td>\n",
       "      <td>False</td>\n",
       "      <td>Free</td>\n",
       "      <td>229</td>\n",
       "      <td>0</td>\n",
       "      <td>33</td>\n",
       "      <td>All Levels</td>\n",
       "      <td>2 hours</td>\n",
       "      <td>2017-05-26 16:45:55+00:00</td>\n",
       "      <td>Business Finance</td>\n",
       "    </tr>\n",
       "    <tr>\n",
       "      <th>3681</th>\n",
       "      <td>964478</td>\n",
       "      <td>Zombie Apocalypse Photoshop Actions</td>\n",
       "      <td>True</td>\n",
       "      <td>50</td>\n",
       "      <td>12</td>\n",
       "      <td>1</td>\n",
       "      <td>15</td>\n",
       "      <td>All Levels</td>\n",
       "      <td>1.5 hours</td>\n",
       "      <td>2016-09-26 22:19:48+00:00</td>\n",
       "      <td>Graphic Design</td>\n",
       "    </tr>\n",
       "  </tbody>\n",
       "</table>\n",
       "</div>"
      ],
      "text/plain": [
       "      course_id                                       course_title  is_paid  \\\n",
       "3677     328960  Your Own Site in 45 Min: The Complete Wordpres...     True   \n",
       "3678     552700    Your Second Course on Piano: Two Handed Playing     True   \n",
       "3679     631754  Zend Framework 2: Learn the PHP framework ZF2 ...     True   \n",
       "3680    1225194  Zoho Books Gestion Financière d'Entreprise pas...    False   \n",
       "3681     964478                Zombie Apocalypse Photoshop Actions     True   \n",
       "\n",
       "     price  num_subscribers  num_reviews  num_lectures           level  \\\n",
       "3677   120             1566           29            36      All Levels   \n",
       "3678    70             1018           12            22  Beginner Level   \n",
       "3679    40              723          130            37      All Levels   \n",
       "3680  Free              229            0            33      All Levels   \n",
       "3681    50               12            1            15      All Levels   \n",
       "\n",
       "     content_duration       published_timestamp              subject  \n",
       "3677          4 hours 2015-04-20 22:15:17+00:00      Web Development  \n",
       "3678          5 hours 2015-10-26 20:04:21+00:00  Musical Instruments  \n",
       "3679        6.5 hours 2015-11-11 18:55:45+00:00      Web Development  \n",
       "3680          2 hours 2017-05-26 16:45:55+00:00     Business Finance  \n",
       "3681        1.5 hours 2016-09-26 22:19:48+00:00       Graphic Design  "
      ]
     },
     "execution_count": 17,
     "metadata": {},
     "output_type": "execute_result"
    }
   ],
   "source": [
    "data.tail()"
   ]
  },
  {
   "cell_type": "markdown",
   "metadata": {},
   "source": [
    "### 3. Find Shape of Our Dataset (Number of Rows And Number of Columns)"
   ]
  },
  {
   "cell_type": "code",
   "execution_count": 24,
   "metadata": {},
   "outputs": [
    {
     "data": {
      "text/plain": [
       "(3678, 12)"
      ]
     },
     "execution_count": 24,
     "metadata": {},
     "output_type": "execute_result"
    }
   ],
   "source": [
    "data.shape"
   ]
  },
  {
   "cell_type": "code",
   "execution_count": 19,
   "metadata": {},
   "outputs": [
    {
     "name": "stdout",
     "output_type": "stream",
     "text": [
      "Number of Rows 3682\n",
      "Number of Columns 11\n"
     ]
    }
   ],
   "source": [
    "print(\"Number of Rows\",data.shape[0])\n",
    "print(\"Number of Columns\",data.shape[1])"
   ]
  },
  {
   "cell_type": "markdown",
   "metadata": {},
   "source": [
    "### 4. Getting Information About Our Dataset Like Total Number Rows, Total Number of Columns, Datatypes of Each Column And Memory Requirement"
   ]
  },
  {
   "cell_type": "code",
   "execution_count": 20,
   "metadata": {},
   "outputs": [
    {
     "name": "stdout",
     "output_type": "stream",
     "text": [
      "<class 'pandas.core.frame.DataFrame'>\n",
      "RangeIndex: 3682 entries, 0 to 3681\n",
      "Data columns (total 11 columns):\n",
      " #   Column               Non-Null Count  Dtype              \n",
      "---  ------               --------------  -----              \n",
      " 0   course_id            3682 non-null   int64              \n",
      " 1   course_title         3682 non-null   object             \n",
      " 2   is_paid              3682 non-null   bool               \n",
      " 3   price                3682 non-null   object             \n",
      " 4   num_subscribers      3682 non-null   int64              \n",
      " 5   num_reviews          3682 non-null   int64              \n",
      " 6   num_lectures         3682 non-null   int64              \n",
      " 7   level                3682 non-null   object             \n",
      " 8   content_duration     3682 non-null   object             \n",
      " 9   published_timestamp  3682 non-null   datetime64[ns, UTC]\n",
      " 10  subject              3682 non-null   object             \n",
      "dtypes: bool(1), datetime64[ns, UTC](1), int64(4), object(5)\n",
      "memory usage: 291.4+ KB\n"
     ]
    }
   ],
   "source": [
    "data.info()"
   ]
  },
  {
   "cell_type": "markdown",
   "metadata": {},
   "source": [
    "### 5. Check Null Values In The Dataset"
   ]
  },
  {
   "cell_type": "code",
   "execution_count": 9,
   "metadata": {},
   "outputs": [
    {
     "name": "stdout",
     "output_type": "stream",
     "text": [
      "Any Missing Value? False\n"
     ]
    }
   ],
   "source": [
    "print(\"Any Missing Value?\",data.isnull().values.any())"
   ]
  },
  {
   "cell_type": "code",
   "execution_count": 10,
   "metadata": {},
   "outputs": [
    {
     "data": {
      "text/plain": [
       "course_id              0\n",
       "course_title           0\n",
       "is_paid                0\n",
       "price                  0\n",
       "num_subscribers        0\n",
       "num_reviews            0\n",
       "num_lectures           0\n",
       "level                  0\n",
       "content_duration       0\n",
       "published_timestamp    0\n",
       "subject                0\n",
       "dtype: int64"
      ]
     },
     "execution_count": 10,
     "metadata": {},
     "output_type": "execute_result"
    }
   ],
   "source": [
    "data.isnull().sum()"
   ]
  },
  {
   "cell_type": "code",
   "execution_count": 11,
   "metadata": {},
   "outputs": [
    {
     "data": {
      "text/plain": [
       "<AxesSubplot:>"
      ]
     },
     "execution_count": 11,
     "metadata": {},
     "output_type": "execute_result"
    },
    {
     "data": {
      "image/png": "[encoded data removed]",
      "text/plain": [
       "<Figure size 432x288 with 2 Axes>"
      ]
     },
     "metadata": {
      "needs_background": "light"
     },
     "output_type": "display_data"
    }
   ],
   "source": [
    "sns.heatmap(data.isnull())"
   ]
  },
  {
   "cell_type": "code",
   "execution_count": null,
   "metadata": {},
   "outputs": [],
   "source": []
  },
  {
   "cell_type": "markdown",
   "metadata": {},
   "source": [
    "### 6. Check For Duplicate Data and Drop Them"
   ]
  },
  {
   "cell_type": "code",
   "execution_count": 12,
   "metadata": {},
   "outputs": [
    {
     "name": "stdout",
     "output_type": "stream",
     "text": [
      "Are There any duplicated value in data? True\n"
     ]
    }
   ],
   "source": [
    "dup=data.duplicated().any()\n",
    "print(\"Are There any duplicated value in data?\",dup)"
   ]
  },
  {
   "cell_type": "code",
   "execution_count": 13,
   "metadata": {},
   "outputs": [],
   "source": [
    "data=data.drop_duplicates()"
   ]
  },
  {
   "cell_type": "code",
   "execution_count": 14,
   "metadata": {},
   "outputs": [
    {
     "name": "stdout",
     "output_type": "stream",
     "text": [
      "Are There any duplicated value in data? False\n"
     ]
    }
   ],
   "source": [
    "dup=data.duplicated().any()\n",
    "print(\"Are There any duplicated value in data?\",dup)"
   ]
  },
  {
   "cell_type": "code",
   "execution_count": null,
   "metadata": {},
   "outputs": [],
   "source": []
  },
  {
   "cell_type": "markdown",
   "metadata": {},
   "source": [
    " ### 7. Find Out Number of Courses Per Subjects"
   ]
  },
  {
   "cell_type": "code",
   "execution_count": 15,
   "metadata": {},
   "outputs": [
    {
     "data": {
      "text/html": [
       "<div>\n",
       "<style scoped>\n",
       "    .dataframe tbody tr th:only-of-type {\n",
       "        vertical-align: middle;\n",
       "    }\n",
       "\n",
       "    .dataframe tbody tr th {\n",
       "        vertical-align: top;\n",
       "    }\n",
       "\n",
       "    .dataframe thead th {\n",
       "        text-align: right;\n",
       "    }\n",
       "</style>\n",
       "<table border=\"1\" class=\"dataframe\">\n",
       "  <thead>\n",
       "    <tr style=\"text-align: right;\">\n",
       "      <th></th>\n",
       "      <th>course_id</th>\n",
       "      <th>course_title</th>\n",
       "      <th>is_paid</th>\n",
       "      <th>price</th>\n",
       "      <th>num_subscribers</th>\n",
       "      <th>num_reviews</th>\n",
       "      <th>num_lectures</th>\n",
       "      <th>level</th>\n",
       "      <th>content_duration</th>\n",
       "      <th>published_timestamp</th>\n",
       "      <th>subject</th>\n",
       "    </tr>\n",
       "  </thead>\n",
       "  <tbody>\n",
       "    <tr>\n",
       "      <th>0</th>\n",
       "      <td>288942</td>\n",
       "      <td>#1 Piano Hand Coordination: Play 10th Ballad i...</td>\n",
       "      <td>True</td>\n",
       "      <td>35</td>\n",
       "      <td>3137</td>\n",
       "      <td>18</td>\n",
       "      <td>68</td>\n",
       "      <td>All Levels</td>\n",
       "      <td>1.5 hours</td>\n",
       "      <td>2014-09-18 05:07:05+00:00</td>\n",
       "      <td>Musical Instruments</td>\n",
       "    </tr>\n",
       "  </tbody>\n",
       "</table>\n",
       "</div>"
      ],
      "text/plain": [
       "   course_id                                       course_title  is_paid  \\\n",
       "0     288942  #1 Piano Hand Coordination: Play 10th Ballad i...     True   \n",
       "\n",
       "  price  num_subscribers  num_reviews  num_lectures       level  \\\n",
       "0    35             3137           18            68  All Levels   \n",
       "\n",
       "  content_duration       published_timestamp              subject  \n",
       "0        1.5 hours 2014-09-18 05:07:05+00:00  Musical Instruments  "
      ]
     },
     "execution_count": 15,
     "metadata": {},
     "output_type": "execute_result"
    }
   ],
   "source": [
    "data.head(1)"
   ]
  },
  {
   "cell_type": "code",
   "execution_count": 16,
   "metadata": {},
   "outputs": [
    {
     "data": {
      "text/plain": [
       "Web Development        1199\n",
       "Business Finance       1195\n",
       "Musical Instruments     680\n",
       "Graphic Design          602\n",
       "Name: subject, dtype: int64"
      ]
     },
     "execution_count": 16,
     "metadata": {},
     "output_type": "execute_result"
    }
   ],
   "source": [
    "data['subject'].value_counts()"
   ]
  },
  {
   "cell_type": "code",
   "execution_count": 17,
   "metadata": {},
   "outputs": [],
   "source": [
    "import matplotlib.pyplot as plt"
   ]
  },
  {
   "cell_type": "code",
   "execution_count": 18,
   "metadata": {},
   "outputs": [
    {
     "data": {
      "image/png": "[encoded data removed]",
      "text/plain": [
       "<Figure size 432x288 with 1 Axes>"
      ]
     },
     "metadata": {
      "needs_background": "light"
     },
     "output_type": "display_data"
    }
   ],
   "source": [
    "sns.countplot(data['subject'])\n",
    "plt.xlabel(\"Subjects\",fontsize=13)\n",
    "plt.ylabel(\"Number of Courses Per Subject\",fontsize=13)\n",
    "plt.xticks(rotation=65)\n",
    "plt.show()"
   ]
  },
  {
   "cell_type": "markdown",
   "metadata": {},
   "source": [
    "### 8. For Which Levels, Udemy Courses Providing The Courses"
   ]
  },
  {
   "cell_type": "code",
   "execution_count": 19,
   "metadata": {},
   "outputs": [
    {
     "data": {
      "text/plain": [
       "Index(['course_id', 'course_title', 'is_paid', 'price', 'num_subscribers',\n",
       "       'num_reviews', 'num_lectures', 'level', 'content_duration',\n",
       "       'published_timestamp', 'subject'],\n",
       "      dtype='object')"
      ]
     },
     "execution_count": 19,
     "metadata": {},
     "output_type": "execute_result"
    }
   ],
   "source": [
    "data.columns"
   ]
  },
  {
   "cell_type": "code",
   "execution_count": 20,
   "metadata": {},
   "outputs": [
    {
     "data": {
      "text/plain": [
       "All Levels            1928\n",
       "Beginner Level        1269\n",
       "Intermediate Level     421\n",
       "Expert Level            58\n",
       "Name: level, dtype: int64"
      ]
     },
     "execution_count": 20,
     "metadata": {},
     "output_type": "execute_result"
    }
   ],
   "source": [
    "data['level'].value_counts()"
   ]
  },
  {
   "cell_type": "code",
   "execution_count": 21,
   "metadata": {},
   "outputs": [
    {
     "data": {
      "image/png": "[encoded data removed]",
      "text/plain": [
       "<Figure size 432x288 with 1 Axes>"
      ]
     },
     "metadata": {
      "needs_background": "light"
     },
     "output_type": "display_data"
    }
   ],
   "source": [
    "sns.countplot(data['level'])\n",
    "plt.xlabel(\"Level\",fontsize=13)\n",
    "plt.ylabel(\"Number of Courses Per Level\",fontsize=13)\n",
    "plt.xticks(rotation=65)\n",
    "plt.show()"
   ]
  },
  {
   "cell_type": "markdown",
   "metadata": {},
   "source": [
    "### 9. Display The Count of Paid and Free Courses "
   ]
  },
  {
   "cell_type": "code",
   "execution_count": 22,
   "metadata": {},
   "outputs": [
    {
     "data": {
      "text/plain": [
       "Index(['course_id', 'course_title', 'is_paid', 'price', 'num_subscribers',\n",
       "       'num_reviews', 'num_lectures', 'level', 'content_duration',\n",
       "       'published_timestamp', 'subject'],\n",
       "      dtype='object')"
      ]
     },
     "execution_count": 22,
     "metadata": {},
     "output_type": "execute_result"
    }
   ],
   "source": [
    "data.columns"
   ]
  },
  {
   "cell_type": "code",
   "execution_count": 23,
   "metadata": {},
   "outputs": [
    {
     "data": {
      "text/plain": [
       "True     3366\n",
       "False     310\n",
       "Name: is_paid, dtype: int64"
      ]
     },
     "execution_count": 23,
     "metadata": {},
     "output_type": "execute_result"
    }
   ],
   "source": [
    "data['is_paid'].value_counts()"
   ]
  },
  {
   "cell_type": "code",
   "execution_count": 24,
   "metadata": {},
   "outputs": [
    {
     "data": {
      "image/png": "[encoded data removed]",
      "text/plain": [
       "<Figure size 432x288 with 1 Axes>"
      ]
     },
     "metadata": {
      "needs_background": "light"
     },
     "output_type": "display_data"
    }
   ],
   "source": [
    "sns.countplot(data['is_paid'])\n",
    "plt.xlabel(\"Level\",fontsize=13)\n",
    "plt.ylabel(\"Number of Free And Paid Courses\",fontsize=13)\n",
    "plt.xticks(rotation=65)\n",
    "plt.show()"
   ]
  },
  {
   "cell_type": "code",
   "execution_count": null,
   "metadata": {},
   "outputs": [],
   "source": []
  },
  {
   "cell_type": "markdown",
   "metadata": {},
   "source": [
    "### 10. Which Course Has More Lectures (Free or Paid)?"
   ]
  },
  {
   "cell_type": "code",
   "execution_count": 25,
   "metadata": {},
   "outputs": [
    {
     "data": {
      "text/html": [
       "<div>\n",
       "<style scoped>\n",
       "    .dataframe tbody tr th:only-of-type {\n",
       "        vertical-align: middle;\n",
       "    }\n",
       "\n",
       "    .dataframe tbody tr th {\n",
       "        vertical-align: top;\n",
       "    }\n",
       "\n",
       "    .dataframe thead th {\n",
       "        text-align: right;\n",
       "    }\n",
       "</style>\n",
       "<table border=\"1\" class=\"dataframe\">\n",
       "  <thead>\n",
       "    <tr style=\"text-align: right;\">\n",
       "      <th></th>\n",
       "      <th>course_id</th>\n",
       "      <th>num_subscribers</th>\n",
       "      <th>num_reviews</th>\n",
       "      <th>num_lectures</th>\n",
       "    </tr>\n",
       "    <tr>\n",
       "      <th>is_paid</th>\n",
       "      <th></th>\n",
       "      <th></th>\n",
       "      <th></th>\n",
       "      <th></th>\n",
       "    </tr>\n",
       "  </thead>\n",
       "  <tbody>\n",
       "    <tr>\n",
       "      <th>False</th>\n",
       "      <td>691446.970968</td>\n",
       "      <td>11533.951613</td>\n",
       "      <td>425.929032</td>\n",
       "      <td>21.416129</td>\n",
       "    </tr>\n",
       "    <tr>\n",
       "      <th>True</th>\n",
       "      <td>675165.977718</td>\n",
       "      <td>2418.997623</td>\n",
       "      <td>131.364231</td>\n",
       "      <td>41.816993</td>\n",
       "    </tr>\n",
       "  </tbody>\n",
       "</table>\n",
       "</div>"
      ],
      "text/plain": [
       "             course_id  num_subscribers  num_reviews  num_lectures\n",
       "is_paid                                                           \n",
       "False    691446.970968     11533.951613   425.929032     21.416129\n",
       "True     675165.977718      2418.997623   131.364231     41.816993"
      ]
     },
     "execution_count": 25,
     "metadata": {},
     "output_type": "execute_result"
    }
   ],
   "source": [
    "data.groupby(['is_paid']).mean()"
   ]
  },
  {
   "cell_type": "code",
   "execution_count": null,
   "metadata": {},
   "outputs": [],
   "source": []
  },
  {
   "cell_type": "markdown",
   "metadata": {},
   "source": [
    "### 11. Which Courses Have A Higher Number of Subscribers Free or Paid?"
   ]
  },
  {
   "cell_type": "code",
   "execution_count": 34,
   "metadata": {},
   "outputs": [
    {
     "data": {
      "text/plain": [
       "Index(['course_id', 'course_title', 'is_paid', 'price', 'num_subscribers',\n",
       "       'num_reviews', 'num_lectures', 'level', 'content_duration',\n",
       "       'published_timestamp', 'subject'],\n",
       "      dtype='object')"
      ]
     },
     "execution_count": 34,
     "metadata": {},
     "output_type": "execute_result"
    }
   ],
   "source": [
    "data.columns"
   ]
  },
  {
   "cell_type": "code",
   "execution_count": 35,
   "metadata": {},
   "outputs": [
    {
     "data": {
      "text/plain": [
       "<AxesSubplot:xlabel='is_paid', ylabel='num_subscribers'>"
      ]
     },
     "execution_count": 35,
     "metadata": {},
     "output_type": "execute_result"
    },
    {
     "data": {
      "image/png": "[encoded data removed]",
      "text/plain": [
       "<Figure size 432x288 with 1 Axes>"
      ]
     },
     "metadata": {
      "needs_background": "light"
     },
     "output_type": "display_data"
    }
   ],
   "source": [
    "sns.barplot(x=\"is_paid\",y=\"num_subscribers\",data=data)"
   ]
  },
  {
   "cell_type": "code",
   "execution_count": null,
   "metadata": {},
   "outputs": [],
   "source": []
  },
  {
   "cell_type": "markdown",
   "metadata": {},
   "source": [
    "### 12. Which Level Has The Highest Number of Subscribers?"
   ]
  },
  {
   "cell_type": "code",
   "execution_count": 36,
   "metadata": {},
   "outputs": [
    {
     "data": {
      "text/plain": [
       "Index(['course_id', 'course_title', 'is_paid', 'price', 'num_subscribers',\n",
       "       'num_reviews', 'num_lectures', 'level', 'content_duration',\n",
       "       'published_timestamp', 'subject'],\n",
       "      dtype='object')"
      ]
     },
     "execution_count": 36,
     "metadata": {},
     "output_type": "execute_result"
    }
   ],
   "source": [
    "data.columns"
   ]
  },
  {
   "cell_type": "code",
   "execution_count": 39,
   "metadata": {},
   "outputs": [
    {
     "data": {
      "image/png": "[encoded data removed]",
      "text/plain": [
       "<Figure size 432x288 with 1 Axes>"
      ]
     },
     "metadata": {
      "needs_background": "light"
     },
     "output_type": "display_data"
    }
   ],
   "source": [
    "sns.barplot(x=\"level\",y=\"num_subscribers\",data=data)\n",
    "plt.xticks(rotation=60)\n",
    "plt.show()"
   ]
  },
  {
   "cell_type": "code",
   "execution_count": null,
   "metadata": {},
   "outputs": [],
   "source": []
  },
  {
   "cell_type": "code",
   "execution_count": null,
   "metadata": {},
   "outputs": [],
   "source": []
  },
  {
   "cell_type": "markdown",
   "metadata": {},
   "source": [
    "### 13. Find Most Popular Course Title"
   ]
  },
  {
   "cell_type": "code",
   "execution_count": 40,
   "metadata": {},
   "outputs": [
    {
     "data": {
      "text/plain": [
       "Index(['course_id', 'course_title', 'is_paid', 'price', 'num_subscribers',\n",
       "       'num_reviews', 'num_lectures', 'level', 'content_duration',\n",
       "       'published_timestamp', 'subject'],\n",
       "      dtype='object')"
      ]
     },
     "execution_count": 40,
     "metadata": {},
     "output_type": "execute_result"
    }
   ],
   "source": [
    "data.columns"
   ]
  },
  {
   "cell_type": "code",
   "execution_count": 44,
   "metadata": {},
   "outputs": [
    {
     "data": {
      "text/plain": [
       "2230    Learn HTML5 Programming From Scratch\n",
       "Name: course_title, dtype: object"
      ]
     },
     "execution_count": 44,
     "metadata": {},
     "output_type": "execute_result"
    }
   ],
   "source": [
    "data[data['num_subscribers'].max()==data['num_subscribers']]['course_title']"
   ]
  },
  {
   "cell_type": "code",
   "execution_count": null,
   "metadata": {},
   "outputs": [],
   "source": []
  },
  {
   "cell_type": "code",
   "execution_count": null,
   "metadata": {},
   "outputs": [],
   "source": []
  },
  {
   "cell_type": "markdown",
   "metadata": {},
   "source": [
    "### 14. Display 10 Most Popular Courses As Per Number of Subscribers"
   ]
  },
  {
   "cell_type": "code",
   "execution_count": 45,
   "metadata": {},
   "outputs": [
    {
     "data": {
      "text/plain": [
       "Index(['course_id', 'course_title', 'is_paid', 'price', 'num_subscribers',\n",
       "       'num_reviews', 'num_lectures', 'level', 'content_duration',\n",
       "       'published_timestamp', 'subject'],\n",
       "      dtype='object')"
      ]
     },
     "execution_count": 45,
     "metadata": {},
     "output_type": "execute_result"
    }
   ],
   "source": [
    "data.columns"
   ]
  },
  {
   "cell_type": "code",
   "execution_count": 51,
   "metadata": {},
   "outputs": [],
   "source": [
    "top_10=data.sort_values(by=\"num_subscribers\",ascending=False).head(10)"
   ]
  },
  {
   "cell_type": "code",
   "execution_count": 53,
   "metadata": {},
   "outputs": [
    {
     "data": {
      "text/plain": [
       "<AxesSubplot:xlabel='num_subscribers', ylabel='course_title'>"
      ]
     },
     "execution_count": 53,
     "metadata": {},
     "output_type": "execute_result"
    },
    {
     "data": {
      "image/png": "[encoded data removed]",
      "text/plain": [
       "<Figure size 432x288 with 1 Axes>"
      ]
     },
     "metadata": {
      "needs_background": "light"
     },
     "output_type": "display_data"
    }
   ],
   "source": [
    "sns.barplot(x=\"num_subscribers\",y=\"course_title\",data=top_10)"
   ]
  },
  {
   "cell_type": "code",
   "execution_count": null,
   "metadata": {},
   "outputs": [],
   "source": []
  },
  {
   "cell_type": "code",
   "execution_count": null,
   "metadata": {},
   "outputs": [],
   "source": []
  },
  {
   "cell_type": "markdown",
   "metadata": {},
   "source": [
    "### 15. Find The Course Which Is Having The Highest Number of Reviews."
   ]
  },
  {
   "cell_type": "code",
   "execution_count": 54,
   "metadata": {},
   "outputs": [
    {
     "data": {
      "text/plain": [
       "Index(['course_id', 'course_title', 'is_paid', 'price', 'num_subscribers',\n",
       "       'num_reviews', 'num_lectures', 'level', 'content_duration',\n",
       "       'published_timestamp', 'subject'],\n",
       "      dtype='object')"
      ]
     },
     "execution_count": 54,
     "metadata": {},
     "output_type": "execute_result"
    }
   ],
   "source": [
    "data.columns"
   ]
  },
  {
   "cell_type": "code",
   "execution_count": 57,
   "metadata": {},
   "outputs": [
    {
     "data": {
      "text/plain": [
       "<AxesSubplot:xlabel='subject', ylabel='num_reviews'>"
      ]
     },
     "execution_count": 57,
     "metadata": {},
     "output_type": "execute_result"
    },
    {
     "data": {
      "image/png": "[encoded data removed]",
      "text/plain": [
       "<Figure size 720x288 with 1 Axes>"
      ]
     },
     "metadata": {
      "needs_background": "light"
     },
     "output_type": "display_data"
    }
   ],
   "source": [
    "plt.figure(figsize=(10,4))\n",
    "sns.barplot(x=\"subject\",y=\"num_reviews\",data=data)"
   ]
  },
  {
   "cell_type": "code",
   "execution_count": null,
   "metadata": {},
   "outputs": [],
   "source": []
  },
  {
   "cell_type": "code",
   "execution_count": null,
   "metadata": {},
   "outputs": [],
   "source": []
  },
  {
   "cell_type": "markdown",
   "metadata": {},
   "source": [
    "### 16. Does Price Affect Number of Reviews?"
   ]
  },
  {
   "cell_type": "code",
   "execution_count": 58,
   "metadata": {},
   "outputs": [
    {
     "data": {
      "text/plain": [
       "Index(['course_id', 'course_title', 'is_paid', 'price', 'num_subscribers',\n",
       "       'num_reviews', 'num_lectures', 'level', 'content_duration',\n",
       "       'published_timestamp', 'subject'],\n",
       "      dtype='object')"
      ]
     },
     "execution_count": 58,
     "metadata": {},
     "output_type": "execute_result"
    }
   ],
   "source": [
    "data.columns"
   ]
  },
  {
   "cell_type": "code",
   "execution_count": 61,
   "metadata": {},
   "outputs": [
    {
     "data": {
      "text/plain": [
       "<AxesSubplot:xlabel='price', ylabel='num_reviews'>"
      ]
     },
     "execution_count": 61,
     "metadata": {},
     "output_type": "execute_result"
    },
    {
     "data": {
      "image/png": "[encoded data removed]",
      "text/plain": [
       "<Figure size 1080x432 with 1 Axes>"
      ]
     },
     "metadata": {
      "needs_background": "light"
     },
     "output_type": "display_data"
    }
   ],
   "source": [
    "plt.figure(figsize=(15,6))\n",
    "sns.scatterplot(x=\"price\",y=\"num_reviews\",data=data)"
   ]
  },
  {
   "cell_type": "markdown",
   "metadata": {},
   "source": [
    "### 17. Find Total Number of Courses Related To Python"
   ]
  },
  {
   "cell_type": "code",
   "execution_count": 62,
   "metadata": {},
   "outputs": [
    {
     "data": {
      "text/plain": [
       "Index(['course_id', 'course_title', 'is_paid', 'price', 'num_subscribers',\n",
       "       'num_reviews', 'num_lectures', 'level', 'content_duration',\n",
       "       'published_timestamp', 'subject'],\n",
       "      dtype='object')"
      ]
     },
     "execution_count": 62,
     "metadata": {},
     "output_type": "execute_result"
    }
   ],
   "source": [
    "data.columns"
   ]
  },
  {
   "cell_type": "code",
   "execution_count": 65,
   "metadata": {},
   "outputs": [
    {
     "data": {
      "text/plain": [
       "29"
      ]
     },
     "execution_count": 65,
     "metadata": {},
     "output_type": "execute_result"
    }
   ],
   "source": [
    "len(data[data['course_title'].str.contains('python',case=False)])"
   ]
  },
  {
   "cell_type": "markdown",
   "metadata": {},
   "source": [
    "### 18. Display 10 Most Popular Python Courses As Per Number of Subscribers"
   ]
  },
  {
   "cell_type": "code",
   "execution_count": 72,
   "metadata": {},
   "outputs": [],
   "source": [
    "python=data[data['course_title'].str.contains('python',case=False)]. \\\n",
    "sort_values(by=\"num_subscribers\",ascending=False).head(10)"
   ]
  },
  {
   "cell_type": "code",
   "execution_count": 74,
   "metadata": {},
   "outputs": [
    {
     "data": {
      "text/plain": [
       "<AxesSubplot:xlabel='num_subscribers', ylabel='course_title'>"
      ]
     },
     "execution_count": 74,
     "metadata": {},
     "output_type": "execute_result"
    },
    {
     "data": {
      "image/png": "[encoded data removed]",
      "text/plain": [
       "<Figure size 432x288 with 1 Axes>"
      ]
     },
     "metadata": {
      "needs_background": "light"
     },
     "output_type": "display_data"
    }
   ],
   "source": [
    "sns.barplot(x=\"num_subscribers\",y=\"course_title\",data=python)"
   ]
  },
  {
   "cell_type": "markdown",
   "metadata": {},
   "source": [
    "### 19. In Which Year The Highest Number of Courses Were Posted?"
   ]
  },
  {
   "cell_type": "code",
   "execution_count": 75,
   "metadata": {},
   "outputs": [
    {
     "data": {
      "text/plain": [
       "Index(['course_id', 'course_title', 'is_paid', 'price', 'num_subscribers',\n",
       "       'num_reviews', 'num_lectures', 'level', 'content_duration',\n",
       "       'published_timestamp', 'subject'],\n",
       "      dtype='object')"
      ]
     },
     "execution_count": 75,
     "metadata": {},
     "output_type": "execute_result"
    }
   ],
   "source": [
    "data.columns"
   ]
  },
  {
   "cell_type": "code",
   "execution_count": 77,
   "metadata": {},
   "outputs": [],
   "source": [
    "data['Year']=data['published_timestamp'].dt.year"
   ]
  },
  {
   "cell_type": "code",
   "execution_count": 78,
   "metadata": {},
   "outputs": [
    {
     "data": {
      "text/html": [
       "<div>\n",
       "<style scoped>\n",
       "    .dataframe tbody tr th:only-of-type {\n",
       "        vertical-align: middle;\n",
       "    }\n",
       "\n",
       "    .dataframe tbody tr th {\n",
       "        vertical-align: top;\n",
       "    }\n",
       "\n",
       "    .dataframe thead th {\n",
       "        text-align: right;\n",
       "    }\n",
       "</style>\n",
       "<table border=\"1\" class=\"dataframe\">\n",
       "  <thead>\n",
       "    <tr style=\"text-align: right;\">\n",
       "      <th></th>\n",
       "      <th>course_id</th>\n",
       "      <th>course_title</th>\n",
       "      <th>is_paid</th>\n",
       "      <th>price</th>\n",
       "      <th>num_subscribers</th>\n",
       "      <th>num_reviews</th>\n",
       "      <th>num_lectures</th>\n",
       "      <th>level</th>\n",
       "      <th>content_duration</th>\n",
       "      <th>published_timestamp</th>\n",
       "      <th>subject</th>\n",
       "      <th>Year</th>\n",
       "    </tr>\n",
       "  </thead>\n",
       "  <tbody>\n",
       "    <tr>\n",
       "      <th>0</th>\n",
       "      <td>288942</td>\n",
       "      <td>#1 Piano Hand Coordination: Play 10th Ballad i...</td>\n",
       "      <td>True</td>\n",
       "      <td>35</td>\n",
       "      <td>3137</td>\n",
       "      <td>18</td>\n",
       "      <td>68</td>\n",
       "      <td>All Levels</td>\n",
       "      <td>1.5 hours</td>\n",
       "      <td>2014-09-18 05:07:05+00:00</td>\n",
       "      <td>Musical Instruments</td>\n",
       "      <td>2014</td>\n",
       "    </tr>\n",
       "  </tbody>\n",
       "</table>\n",
       "</div>"
      ],
      "text/plain": [
       "   course_id                                       course_title  is_paid  \\\n",
       "0     288942  #1 Piano Hand Coordination: Play 10th Ballad i...     True   \n",
       "\n",
       "  price  num_subscribers  num_reviews  num_lectures       level  \\\n",
       "0    35             3137           18            68  All Levels   \n",
       "\n",
       "  content_duration       published_timestamp              subject  Year  \n",
       "0        1.5 hours 2014-09-18 05:07:05+00:00  Musical Instruments  2014  "
      ]
     },
     "execution_count": 78,
     "metadata": {},
     "output_type": "execute_result"
    }
   ],
   "source": [
    "data.head(1)"
   ]
  },
  {
   "cell_type": "code",
   "execution_count": 79,
   "metadata": {},
   "outputs": [
    {
     "data": {
      "text/plain": [
       "<AxesSubplot:xlabel='Year', ylabel='count'>"
      ]
     },
     "execution_count": 79,
     "metadata": {},
     "output_type": "execute_result"
    },
    {
     "data": {
      "image/png": "[encoded data removed]",
      "text/plain": [
       "<Figure size 432x288 with 1 Axes>"
      ]
     },
     "metadata": {
      "needs_background": "light"
     },
     "output_type": "display_data"
    }
   ],
   "source": [
    "sns.countplot('Year',data=data)"
   ]
  },
  {
   "cell_type": "markdown",
   "metadata": {},
   "source": [
    "### 20. Display Category-Wise Count of Posted Subjects [Year Wise] "
   ]
  },
  {
   "cell_type": "code",
   "execution_count": 80,
   "metadata": {
    "scrolled": true
   },
   "outputs": [
    {
     "data": {
      "text/plain": [
       "Year  subject            \n",
       "2011  Web Development          5\n",
       "2012  Web Development         19\n",
       "      Graphic Design          10\n",
       "      Musical Instruments     10\n",
       "      Business Finance         6\n",
       "2013  Business Finance        84\n",
       "      Web Development         55\n",
       "      Musical Instruments     39\n",
       "      Graphic Design          23\n",
       "2014  Business Finance       192\n",
       "      Musical Instruments    120\n",
       "      Web Development        113\n",
       "      Graphic Design          65\n",
       "2015  Business Finance       339\n",
       "      Web Development        336\n",
       "      Musical Instruments    171\n",
       "      Graphic Design         168\n",
       "2016  Web Development        448\n",
       "      Business Finance       347\n",
       "      Musical Instruments    228\n",
       "      Graphic Design         181\n",
       "2017  Business Finance       227\n",
       "      Web Development        223\n",
       "      Graphic Design         155\n",
       "      Musical Instruments    112\n",
       "Name: subject, dtype: int64"
      ]
     },
     "execution_count": 80,
     "metadata": {},
     "output_type": "execute_result"
    }
   ],
   "source": [
    "data.groupby('Year')['subject'].value_counts()"
   ]
  },
  {
   "cell_type": "code",
   "execution_count": null,
   "metadata": {},
   "outputs": [],
   "source": []
  },
  {
   "cell_type": "code",
   "execution_count": null,
   "metadata": {},
   "outputs": [],
   "source": []
  }
 ],
 "metadata": {
  "kernelspec": {
   "display_name": "Python 3",
   "language": "python",
   "name": "python3"
  },
  "language_info": {
   "codemirror_mode": {
    "name": "ipython",
    "version": 3
   },
   "file_extension": ".py",
   "mimetype": "text/x-python",
   "name": "python",
   "nbconvert_exporter": "python",
   "pygments_lexer": "ipython3",
   "version": "3.7.9"
  }
 },
 "nbformat": 4,
 "nbformat_minor": 4
}
